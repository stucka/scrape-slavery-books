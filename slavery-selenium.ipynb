{
 "cells": [
  {
   "cell_type": "code",
   "execution_count": 71,
   "id": "d25adf48",
   "metadata": {},
   "outputs": [],
   "source": [
    "from selenium import webdriver\n",
    "from selenium.webdriver.chrome.service import Service\n",
    "from selenium.webdriver.common.by import By\n",
    "from webdriver_manager.chrome import ChromeDriverManager\n",
    "from selenium.webdriver.chrome.options import Options as ChromeOptions\n",
    "\n",
    "from time import sleep\n",
    "import unicodedata\n",
    "import re"
   ]
  },
  {
   "cell_type": "code",
   "execution_count": 2,
   "id": "8849c36e",
   "metadata": {},
   "outputs": [],
   "source": [
    "# Taken from https://github.com/django/django/blob/main/django/utils/text.py\n",
    "def slugify(value, allow_unicode=False):\n",
    "    \"\"\"\n",
    "    Convert to ASCII if 'allow_unicode' is False. Convert spaces or repeated\n",
    "    dashes to single dashes. Remove characters that aren't alphanumerics,\n",
    "    underscores, or hyphens. Convert to lowercase. Also strip leading and\n",
    "    trailing whitespace, dashes, and underscores.\n",
    "    \"\"\"\n",
    "    value = str(value)\n",
    "    if allow_unicode:\n",
    "        value = unicodedata.normalize(\"NFKC\", value)\n",
    "    else:\n",
    "        value = (\n",
    "            unicodedata.normalize(\"NFKD\", value)\n",
    "            .encode(\"ascii\", \"ignore\")\n",
    "            .decode(\"ascii\")\n",
    "        )\n",
    "    value = re.sub(r\"[^\\w\\s-]\", \"\", value.lower())\n",
    "    return re.sub(r\"[-\\s]+\", \"-\", value).strip(\"-_\")\n"
   ]
  },
  {
   "cell_type": "code",
   "execution_count": 21,
   "id": "8aede9c1",
   "metadata": {},
   "outputs": [],
   "source": [
    "countrieswanted = [\"Brazil\", ]\n",
    "provinceswanted = [\"Rio de Janeiro\", ]\n",
    "citieswanted = [\"Campos dos Goytacazes\",]"
   ]
  },
  {
   "cell_type": "code",
   "execution_count": 3,
   "id": "902b0bbc",
   "metadata": {},
   "outputs": [],
   "source": [
    "chromeoptionsholder = ChromeOptions()\n",
    "chromeoptionsholder.add_argument(\"user-agent=Mozilla/5.0 (Windows NT 10.0; Win64; x64) AppleWebKit/537.36 (KHTML, like Gecko) Chrome/119.0.0.0 Safari/537.36\")"
   ]
  },
  {
   "cell_type": "code",
   "execution_count": 4,
   "id": "97d2f8a8",
   "metadata": {},
   "outputs": [],
   "source": [
    "driver = webdriver.Chrome(options=chromeoptionsholder, service=Service(ChromeDriverManager().install()))"
   ]
  },
  {
   "cell_type": "code",
   "execution_count": 5,
   "id": "201201cd",
   "metadata": {},
   "outputs": [],
   "source": [
    "hosturl = \"https://slavesocieties.org/DocumentSearch\""
   ]
  },
  {
   "cell_type": "code",
   "execution_count": 26,
   "id": "d7a08dc7",
   "metadata": {},
   "outputs": [],
   "source": [
    "driver.get(hosturl)"
   ]
  },
  {
   "cell_type": "code",
   "execution_count": 33,
   "id": "d1989845",
   "metadata": {},
   "outputs": [],
   "source": [
    "sleep(3)\n",
    "listholders = driver.find_elements(By.XPATH, \"//div[contains(@class, 'e-select')]\")\n",
    "for listholder in listholders[2:2+1]:    # Open up country-provinces-city boxes\n",
    "    listholder.click()"
   ]
  },
  {
   "cell_type": "code",
   "execution_count": 31,
   "id": "6ed5a04f",
   "metadata": {},
   "outputs": [],
   "source": [
    "selectionlists = driver.find_elements(By.XPATH, \"//div[contains(@class, 'e-list-wrap')]\")"
   ]
  },
  {
   "cell_type": "code",
   "execution_count": 32,
   "id": "ddda0259",
   "metadata": {},
   "outputs": [],
   "source": [
    "countriesseen = []\n",
    "countrylist = selectionlists[0]\n",
    "items = countrylist.find_elements(By.XPATH, \"//li[contains(@class, 'e-list-item')]\")\n",
    "for item in items:\n",
    "    dv = item.get_attribute(\"data-value\")\n",
    "    countriesseen.append(dv)\n",
    "    if dv in countrieswanted:\n",
    "        item.click()\n",
    "for countrywanted in countrieswanted:\n",
    "    if countrywanted not in countriesseen:\n",
    "        print(f\"{countrywanted} was not in the list -- did you have a typo, accent mark, something different from the data-value?\")"
   ]
  },
  {
   "cell_type": "code",
   "execution_count": 44,
   "id": "91f605cf",
   "metadata": {},
   "outputs": [],
   "source": [
    "sleep(3)\n",
    "listholders = driver.find_elements(By.XPATH, \"//div[contains(@class, 'e-select')]\")\n",
    "for listholder in listholders[3:3+1]:    # Open up country-provinces-city boxes\n",
    "    listholder.click()"
   ]
  },
  {
   "cell_type": "code",
   "execution_count": 39,
   "id": "2b48494b",
   "metadata": {},
   "outputs": [],
   "source": [
    "selectionlists = driver.find_elements(By.XPATH, \"//div[contains(@class, 'e-list-wrap')]\")"
   ]
  },
  {
   "cell_type": "code",
   "execution_count": 41,
   "id": "9bae47b7",
   "metadata": {},
   "outputs": [],
   "source": [
    "provincesseen = []\n",
    "provincelist = selectionlists[1]\n",
    "items = provincelist.find_elements(By.XPATH, \"//li[contains(@class, 'e-list-item')]\")\n",
    "for item in items:\n",
    "    dv = item.get_attribute(\"data-value\")\n",
    "    provincesseen.append(dv)\n",
    "    if dv in provinceswanted:\n",
    "        item.click()\n",
    "for provincewanted in provinceswanted:\n",
    "    if provincewanted not in provincesseen:\n",
    "        print(f\"{provincewanted} was not in the list -- did you have a typo, accent mark, something different from the data-value?\")"
   ]
  },
  {
   "cell_type": "code",
   "execution_count": 43,
   "id": "4fbc8ad3",
   "metadata": {},
   "outputs": [
    {
     "data": {
      "text/plain": [
       "[<selenium.webdriver.remote.webelement.WebElement (session=\"2a0c0b714f8c050213dde8e13ae902d2\", element=\"2E4F7E5D02FEA1859E0FCD5FCF7ABB54_element_2244\")>,\n",
       " <selenium.webdriver.remote.webelement.WebElement (session=\"2a0c0b714f8c050213dde8e13ae902d2\", element=\"2E4F7E5D02FEA1859E0FCD5FCF7ABB54_element_2245\")>,\n",
       " <selenium.webdriver.remote.webelement.WebElement (session=\"2a0c0b714f8c050213dde8e13ae902d2\", element=\"2E4F7E5D02FEA1859E0FCD5FCF7ABB54_element_2246\")>,\n",
       " <selenium.webdriver.remote.webelement.WebElement (session=\"2a0c0b714f8c050213dde8e13ae902d2\", element=\"2E4F7E5D02FEA1859E0FCD5FCF7ABB54_element_2247\")>,\n",
       " <selenium.webdriver.remote.webelement.WebElement (session=\"2a0c0b714f8c050213dde8e13ae902d2\", element=\"2E4F7E5D02FEA1859E0FCD5FCF7ABB54_element_2248\")>,\n",
       " <selenium.webdriver.remote.webelement.WebElement (session=\"2a0c0b714f8c050213dde8e13ae902d2\", element=\"2E4F7E5D02FEA1859E0FCD5FCF7ABB54_element_2249\")>]"
      ]
     },
     "execution_count": 43,
     "metadata": {},
     "output_type": "execute_result"
    }
   ],
   "source": [
    "listholders"
   ]
  },
  {
   "cell_type": "code",
   "execution_count": 45,
   "id": "9e594334",
   "metadata": {},
   "outputs": [],
   "source": [
    "sleep(3)\n",
    "listholders = driver.find_elements(By.XPATH, \"//div[contains(@class, 'e-select')]\")\n",
    "for listholder in listholders[4:4+1]:    # Open up country-provinces-city boxes\n",
    "    listholder.click()"
   ]
  },
  {
   "cell_type": "code",
   "execution_count": 46,
   "id": "bb79d7f2",
   "metadata": {},
   "outputs": [],
   "source": [
    "selectionlists = driver.find_elements(By.XPATH, \"//div[contains(@class, 'e-list-wrap')]\")"
   ]
  },
  {
   "cell_type": "code",
   "execution_count": 47,
   "id": "74af5dda",
   "metadata": {},
   "outputs": [],
   "source": [
    "citiesseen = []\n",
    "citylist = selectionlists[2]\n",
    "items = citylist.find_elements(By.XPATH, \"//li[contains(@class, 'e-list-item')]\")\n",
    "for item in items:\n",
    "    dv = item.get_attribute(\"data-value\")\n",
    "    citiesseen.append(dv)\n",
    "    if dv in citieswanted:\n",
    "        item.click()\n",
    "for citywanted in citieswanted:\n",
    "    if citywanted not in citiesseen:\n",
    "        print(f\"{citywanted} was not in the list -- did you have a typo, accent mark, something different from the data-value?\")"
   ]
  },
  {
   "cell_type": "code",
   "execution_count": 51,
   "id": "e872f466",
   "metadata": {},
   "outputs": [],
   "source": [
    "# Ideally, we'd be dealing with pagination here. But I'm looking for just 10 books, so you're on your own. Sorry. =)\n",
    "\n",
    "# This was an attempt that failed in multiple ways.\n",
    "# driver.find_element(By.XPATH, \"//input[contains(@class, 'e-dropdownlist')]\").click()"
   ]
  },
  {
   "cell_type": "code",
   "execution_count": 56,
   "id": "81d130d5",
   "metadata": {},
   "outputs": [],
   "source": [
    "bookholder = driver.find_element(By.XPATH, \"//div[contains(@class, 'control-card')]\")"
   ]
  },
  {
   "cell_type": "code",
   "execution_count": 60,
   "id": "0640e999",
   "metadata": {},
   "outputs": [],
   "source": [
    "bookitems = bookholder.find_elements(By.XPATH, \"//div[contains(@class, 'col-lg-3')]\")"
   ]
  },
  {
   "cell_type": "code",
   "execution_count": 72,
   "id": "a3ee8bc8",
   "metadata": {},
   "outputs": [
    {
     "name": "stdout",
     "output_type": "stream",
     "text": [
      "Batismos avulsos de escravos e livres, 1681-1761\n",
      "batismos-avulsos-de-escravos-e-livres-1681-1761\n",
      "Book 1 of Slave and Free Marriages, 1743 - 1754\n",
      "book-1-of-slave-and-free-marriages-1743-1754\n",
      "Book 1 of Slave Baptisms, 1681 - 1689\n",
      "book-1-of-slave-baptisms-1681-1689\n",
      "Book 1 of Slave Baptisms, 1750 -1764\n",
      "book-1-of-slave-baptisms-1750-1764\n",
      "Book 1 of Slave, Freed, and Free Burials, 1770\n",
      "book-1-of-slave-freed-and-free-burials-1770\n",
      "Book 4 of Slave Baptisms, 1758 - 1760\n",
      "book-4-of-slave-baptisms-1758-1760\n",
      "Campos IV\n",
      "campos-iv\n",
      "Livro de Batismo de Escravos, 1681-1689\n",
      "livro-de-batismo-de-escravos-1681-1689\n",
      "Livro de batismos de livres, 1774-1787\n",
      "livro-de-batismos-de-livres-1774-1787\n",
      "Livro de Óbitos de Escravos e Livres, 1770\n",
      "livro-de-obitos-de-escravos-e-livres-1770\n"
     ]
    }
   ],
   "source": [
    "for bookitem in bookitems:\n",
    "    bookchatter = bookitem.find_element(By.XPATH, \"p\").get_attribute('innerHTML')\n",
    "    # sample = Batismos avulsos de escravos e livres, 1681-1761<!--!--><br><a style=\"font-size:0.6rem\">01/09/1681 - 07/24/1761 (ID: 38559)</a>\n",
    "    booktitle = bookchatter.split(\"<!--\")[0]\n",
    "    # ID with regex is at    \\(ID: (.*)\\)\n",
    "    print(booktitle)\n",
    "    print(slugify(booktitle))"
   ]
  },
  {
   "cell_type": "code",
   "execution_count": null,
   "id": "821f599b",
   "metadata": {},
   "outputs": [],
   "source": []
  }
 ],
 "metadata": {
  "kernelspec": {
   "display_name": "Python 3 (ipykernel)",
   "language": "python",
   "name": "python3"
  },
  "language_info": {
   "codemirror_mode": {
    "name": "ipython",
    "version": 3
   },
   "file_extension": ".py",
   "mimetype": "text/x-python",
   "name": "python",
   "nbconvert_exporter": "python",
   "pygments_lexer": "ipython3",
   "version": "3.10.6"
  }
 },
 "nbformat": 4,
 "nbformat_minor": 5
}
