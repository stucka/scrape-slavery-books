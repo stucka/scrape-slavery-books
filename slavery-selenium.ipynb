{
 "cells": [
  {
   "cell_type": "code",
   "execution_count": null,
   "id": "e38331ea",
   "metadata": {},
   "outputs": [],
   "source": [
    "from selenium import webdriver\n",
    "from selenium.webdriver.chrome.service import Service\n",
    "from selenium.webdriver.common.by import By\n",
    "from webdriver_manager.chrome import ChromeDriverManager\n",
    "from selenium.webdriver.chrome.options import Options as ChromeOptions\n",
    "from pyquery import PyQuery as pq\n",
    "\n",
    "from time import sleep\n",
    "import unicodedata\n",
    "import re"
   ]
  },
  {
   "cell_type": "code",
   "execution_count": null,
   "id": "1823305f",
   "metadata": {},
   "outputs": [],
   "source": [
    "# Taken from https://github.com/django/django/blob/main/django/utils/text.py\n",
    "def slugify(value, allow_unicode=False):\n",
    "    \"\"\"\n",
    "    Convert to ASCII if 'allow_unicode' is False. Convert spaces or repeated\n",
    "    dashes to single dashes. Remove characters that aren't alphanumerics,\n",
    "    underscores, or hyphens. Convert to lowercase. Also strip leading and\n",
    "    trailing whitespace, dashes, and underscores.\n",
    "    \"\"\"\n",
    "    value = str(value)\n",
    "    if allow_unicode:\n",
    "        value = unicodedata.normalize(\"NFKC\", value)\n",
    "    else:\n",
    "        value = (\n",
    "            unicodedata.normalize(\"NFKD\", value)\n",
    "            .encode(\"ascii\", \"ignore\")\n",
    "            .decode(\"ascii\")\n",
    "        )\n",
    "    value = re.sub(r\"[^\\w\\s-]\", \"\", value.lower())\n",
    "    return re.sub(r\"[-\\s]+\", \"-\", value).strip(\"-_\")\n"
   ]
  },
  {
   "cell_type": "code",
   "execution_count": null,
   "id": "21024df1",
   "metadata": {},
   "outputs": [],
   "source": [
    "countrieswanted = [\"Brazil\", ]\n",
    "provinceswanted = [\"Rio de Janeiro\", ]\n",
    "citieswanted = [\"Campos dos Goytacazes\",]"
   ]
  },
  {
   "cell_type": "code",
   "execution_count": null,
   "id": "0c760e20",
   "metadata": {},
   "outputs": [],
   "source": [
    "chromeoptionsholder = ChromeOptions()\n",
    "chromeoptionsholder.add_argument(\"user-agent=Mozilla/5.0 (Windows NT 10.0; Win64; x64) AppleWebKit/537.36 (KHTML, like Gecko) Chrome/119.0.0.0 Safari/537.36\")"
   ]
  },
  {
   "cell_type": "code",
   "execution_count": null,
   "id": "4a88db44",
   "metadata": {},
   "outputs": [],
   "source": [
    "driver = webdriver.Chrome(options=chromeoptionsholder, service=Service(ChromeDriverManager().install()))"
   ]
  },
  {
   "cell_type": "code",
   "execution_count": null,
   "id": "23cf6cdc",
   "metadata": {},
   "outputs": [],
   "source": [
    "hosturl = \"https://slavesocieties.org/DocumentSearch\""
   ]
  },
  {
   "cell_type": "code",
   "execution_count": null,
   "id": "90ce1bc0",
   "metadata": {},
   "outputs": [],
   "source": [
    "driver.get(hosturl)"
   ]
  },
  {
   "cell_type": "code",
   "execution_count": null,
   "id": "73d1d036",
   "metadata": {},
   "outputs": [],
   "source": [
    "sleep(25)\n",
    "listholders = driver.find_elements(By.XPATH, \"//div[contains(@class, 'e-select')]\")\n",
    "for listholder in listholders[2:2+1]:    # Open up country-provinces-city boxes\n",
    "    listholder.click()"
   ]
  },
  {
   "cell_type": "code",
   "execution_count": null,
   "id": "fa9b7df5",
   "metadata": {},
   "outputs": [],
   "source": [
    "sleep(5)\n",
    "selectionlists = driver.find_elements(By.XPATH, \"//div[contains(@class, 'e-list-wrap')]\")"
   ]
  },
  {
   "cell_type": "code",
   "execution_count": null,
   "id": "d7470251",
   "metadata": {},
   "outputs": [],
   "source": [
    "countriesseen = []\n",
    "countrylist = selectionlists[0]\n",
    "items = countrylist.find_elements(By.XPATH, \"//li[contains(@class, 'e-list-item')]\")\n",
    "for item in items:\n",
    "    dv = item.get_attribute(\"data-value\")\n",
    "    countriesseen.append(dv)\n",
    "    if dv in countrieswanted:\n",
    "        item.click()\n",
    "for countrywanted in countrieswanted:\n",
    "    if countrywanted not in countriesseen:\n",
    "        print(f\"{countrywanted} was not in the list -- did you have a typo, accent mark, something different from the data-value?\")"
   ]
  },
  {
   "cell_type": "code",
   "execution_count": null,
   "id": "60ab10fc",
   "metadata": {},
   "outputs": [],
   "source": [
    "sleep(10)\n",
    "listholders = driver.find_elements(By.XPATH, \"//div[contains(@class, 'e-select')]\")\n",
    "for listholder in listholders[3:3+1]:    # Open up country-provinces-city boxes\n",
    "    listholder.click()"
   ]
  },
  {
   "cell_type": "code",
   "execution_count": null,
   "id": "d0b36f03",
   "metadata": {},
   "outputs": [],
   "source": [
    "sleep(5)\n",
    "selectionlists = driver.find_elements(By.XPATH, \"//div[contains(@class, 'e-list-wrap')]\")"
   ]
  },
  {
   "cell_type": "code",
   "execution_count": null,
   "id": "4714af0f",
   "metadata": {},
   "outputs": [],
   "source": [
    "provincesseen = []\n",
    "provincelist = selectionlists[1]\n",
    "items = provincelist.find_elements(By.XPATH, \"//li[contains(@class, 'e-list-item')]\")\n",
    "for item in items:\n",
    "    dv = item.get_attribute(\"data-value\")\n",
    "    provincesseen.append(dv)\n",
    "    if dv in provinceswanted:\n",
    "        item.click()\n",
    "for provincewanted in provinceswanted:\n",
    "    if provincewanted not in provincesseen:\n",
    "        print(f\"{provincewanted} was not in the list -- did you have a typo, accent mark, something different from the data-value?\")"
   ]
  },
  {
   "cell_type": "code",
   "execution_count": null,
   "id": "489903ab",
   "metadata": {},
   "outputs": [],
   "source": [
    "# listholders"
   ]
  },
  {
   "cell_type": "code",
   "execution_count": null,
   "id": "368805d2",
   "metadata": {},
   "outputs": [],
   "source": [
    "sleep(20)\n",
    "listholders = driver.find_elements(By.XPATH, \"//div[contains(@class, 'e-select')]\")\n",
    "for listholder in listholders[4:4+1]:    # Open up country-provinces-city boxes\n",
    "    listholder.click()"
   ]
  },
  {
   "cell_type": "code",
   "execution_count": null,
   "id": "f584df5d",
   "metadata": {},
   "outputs": [],
   "source": [
    "sleep(5)\n",
    "selectionlists = driver.find_elements(By.XPATH, \"//div[contains(@class, 'e-list-wrap')]\")"
   ]
  },
  {
   "cell_type": "code",
   "execution_count": null,
   "id": "c4813f27",
   "metadata": {},
   "outputs": [],
   "source": [
    "citiesseen = []\n",
    "citylist = selectionlists[2]\n",
    "items = citylist.find_elements(By.XPATH, \"//li[contains(@class, 'e-list-item')]\")\n",
    "for item in items:\n",
    "    dv = item.get_attribute(\"data-value\")\n",
    "    citiesseen.append(dv)\n",
    "    if dv in citieswanted:\n",
    "        item.click()\n",
    "for citywanted in citieswanted:\n",
    "    if citywanted not in citiesseen:\n",
    "        print(f\"{citywanted} was not in the list -- did you have a typo, accent mark, something different from the data-value?\")"
   ]
  },
  {
   "cell_type": "code",
   "execution_count": null,
   "id": "fb54340c",
   "metadata": {},
   "outputs": [],
   "source": [
    "sleep(10)"
   ]
  },
  {
   "cell_type": "code",
   "execution_count": null,
   "id": "117ed79d",
   "metadata": {},
   "outputs": [],
   "source": [
    "# Ideally, we'd be dealing with pagination here. But I'm looking for just 10 books, so you're on your own. Sorry. =)\n",
    "\n",
    "# This was an attempt that failed in multiple ways.\n",
    "# driver.find_element(By.XPATH, \"//input[contains(@class, 'e-dropdownlist')]\").click()"
   ]
  },
  {
   "cell_type": "code",
   "execution_count": null,
   "id": "03b101eb",
   "metadata": {},
   "outputs": [],
   "source": [
    "# driver.find_elements(By.XPATH, \"//span[contains(@class, 'e-ddl')]\")[2].click()"
   ]
  },
  {
   "cell_type": "code",
   "execution_count": null,
   "id": "74a25071",
   "metadata": {},
   "outputs": [],
   "source": [
    "# bookholder = driver.find_elements(By.XPATH, \"//div[contains(@class, 'control-card')]\")"
   ]
  },
  {
   "cell_type": "code",
   "execution_count": null,
   "id": "7e6a4547",
   "metadata": {},
   "outputs": [],
   "source": [
    "bookitems = driver.find_elements(By.XPATH, \"//div[contains(@class, 'col-lg-3')]\")"
   ]
  },
  {
   "cell_type": "code",
   "execution_count": null,
   "id": "9d3a258f",
   "metadata": {},
   "outputs": [],
   "source": [
    "# <div class=\"e-folder-name\" style=\"color:var(--color-primary);font-size:20px\">10 Matching Volumes (567 Images)</div>\n",
    "booktally = driver.find_element(By.XPATH, \"//div[contains(@class, 'e-folder-name')]\").get_attribute(\"innerHTML\").split(\" \")[0]\n",
    "if int(booktally) == len(bookitems):\n",
    "    print(f\"{len(bookitems):,} books found ...\")\n",
    "else:\n",
    "    print(f\"Expected {int(booktally):,} books but actually retrieved {len(bookitems):,}\")"
   ]
  },
  {
   "cell_type": "code",
   "execution_count": null,
   "id": "d1736d18",
   "metadata": {},
   "outputs": [],
   "source": [
    "booklist = []\n",
    "for bookitem in bookitems:\n",
    "    bookchatter = bookitem.find_element(By.XPATH, \"p\").get_attribute('innerHTML')\n",
    "    # sample = Batismos avulsos de escravos e livres, 1681-1761<!--!--><br><a style=\"font-size:0.6rem\">01/09/1681 - 07/24/1761 (ID: 38559)</a>\n",
    "    line = {}\n",
    "    line['title'] = bookchatter.split(\"<!--\")[0]\n",
    "    # ID with regex is at    \\(ID: (.*)\\)\n",
    "    line['slug'] = slugify(line['title'])\n",
    "    line['bookid'] = re.search(\"\\(ID: (.*)\\)\", bookchatter).group(1)\n"
   ]
  },
  {
   "cell_type": "code",
   "execution_count": null,
   "id": "6fc52a75",
   "metadata": {},
   "outputs": [],
   "source": [
    "bookitem.click()"
   ]
  },
  {
   "cell_type": "code",
   "execution_count": null,
   "id": "c16ce190",
   "metadata": {},
   "outputs": [],
   "source": [
    "imageholder = driver.find_elements(By.XPATH, \"//div[contains(@style, 'margin:3px 2px 0px 8px;padding:2px;width:4.3em;')]\")"
   ]
  },
  {
   "cell_type": "code",
   "execution_count": null,
   "id": "5ab60a62",
   "metadata": {},
   "outputs": [],
   "source": [
    "for imageelement in imageholder:\n",
    "    pass"
   ]
  },
  {
   "cell_type": "code",
   "execution_count": null,
   "id": "0faaab79",
   "metadata": {},
   "outputs": [],
   "source": [
    "# imageelement.find_element(By.XPATH, \"//a\").click()\n",
    "# imageelement.click()\n",
    "# imageelement.find_element(By.XPATH, \"//div\").click()\n",
    "imageelement.click()"
   ]
  },
  {
   "cell_type": "code",
   "execution_count": null,
   "id": "f94a3df5",
   "metadata": {},
   "outputs": [],
   "source": [
    "filename = driver.find_elements(By.XPATH, \"//h4\")[1].get_attribute(\"innerHTML\").split(\" \")[-1]"
   ]
  },
  {
   "cell_type": "code",
   "execution_count": null,
   "id": "cfc8d4a4",
   "metadata": {},
   "outputs": [],
   "source": [
    "imageelement.get_attribute(\"outerHTML\")"
   ]
  },
  {
   "cell_type": "code",
   "execution_count": null,
   "id": "3a9c6afe",
   "metadata": {},
   "outputs": [],
   "source": [
    "deetdict = {}\n",
    "deetholder = driver.find_element(By.XPATH, \"//div[contains(@class, 'project-details')]\").get_attribute(\"outerHTML\")\n",
    "deetdeets = pq(deetholder)(\"li\")\n",
    "for deetactual in pq(deetdeets)(\"li\"):\n",
    "    # print(deetactual.get_attribute(\"outerHTML\"))\n",
    "    deetkey = pq(deetactual)(\"strong\").html().strip()\n",
    "    deetfullvalue = pq(deetactual)(\"span\").html().strip()\n",
    "    # print(deetfullvalue)\n",
    "    if \"<br/>\" not in deetfullvalue:\n",
    "        deetdict[deetkey] = deetfullvalue.split(\"<!--\")[0]\n",
    "    else:\n",
    "        print(deetfullvalue)\n",
    "        deetdict[deetkey] = deetfullvalue.split(\"<br/>\")[0].split(\"<!--\")[0]\n",
    "        if \"Latitude\" in deetfullvalue:\n",
    "            latlongholder = re.search(\".*Latitude: (.*), Longitude: (.*)<\\/.*\", deetfullvalue)\n",
    "            deetdict[\"latitude\"] = latlongholder.group(1)\n",
    "            deetdict[\"longitude\"] = latlongholder.group(2)\n",
    "        else:\n",
    "            print(f\"Weird value found: {deetfullvalue}\")\n",
    "print(deetdict)"
   ]
  },
  {
   "cell_type": "code",
   "execution_count": null,
   "id": "23b2e831",
   "metadata": {},
   "outputs": [],
   "source": [
    "deetholder.get_attribute(\"outerHTML\")"
   ]
  },
  {
   "cell_type": "code",
   "execution_count": null,
   "id": "ad7514cb",
   "metadata": {},
   "outputs": [],
   "source": [
    "for link in imageholder.find_elements(By.XPATH, \"//a\"):\n",
    "    print(\".\")"
   ]
  },
  {
   "cell_type": "code",
   "execution_count": null,
   "id": "c142ec1b",
   "metadata": {},
   "outputs": [],
   "source": [
    "link.find_element(By.XPATH, \"./..\").click()"
   ]
  },
  {
   "cell_type": "code",
   "execution_count": null,
   "id": "7268584a",
   "metadata": {},
   "outputs": [],
   "source": [
    "<div style=\"margin:3px 2px 0px 8px;padding:2px;width:4.3em;\"><a><img src=\"data:image/jpg;base64,/9j/4AAQSkZJRgABAQEAYABgAAD/2wBDAAgGBgcGBQgHBwcJCQgKDBQNDAsLDBkSEw8UHRofHh0aHBwgJC4nICIsIxwcKDcpLDAxNDQ0Hyc5PTgyPC4zNDL/2wBDAQkJCQwLDBgNDRgyIRwhMjIyMjIyMjIyMjIyMjIyMjIyMjIyMjIyMjIyMjIyMjIyMjIyMjIyMjIyMjIyMjIyMjL/wAARCAB4AFoDASIAAhEBAxEB/8QAHwAAAQUBAQEBAQEAAAAAAAAAAAECAwQFBgcICQoL/8QAtRAAAgEDAwIEAwUFBAQAAAF9AQIDAAQRBRIhMUEGE1FhByJxFDKBkaEII0KxwRVS0fAkM2JyggkKFhcYGRolJicoKSo0NTY3ODk6Q0RFRkdISUpTVFVWV1hZWmNkZWZnaGlqc3R1dnd4eXqDhIWGh4iJipKTlJWWl5iZmqKjpKWmp6ipqrKztLW2t7i5usLDxMXGx8jJytLT1NXW19jZ2uHi4+Tl5ufo6erx8vP09fb3+Pn6/8QAHwEAAwEBAQEBAQEBAQAAAAAAAAECAwQFBgcICQoL/8QAtREAAgECBAQDBAcFBAQAAQJ3AAECAxEEBSExBhJBUQdhcRMiMoEIFEKRobHBCSMzUvAVYnLRChYkNOEl8RcYGRomJygpKjU2Nzg5OkNERUZHSElKU1RVVldYWVpjZGVmZ2hpanN0dXZ3eHl6goOEhYaHiImKkpOUlZaXmJmaoqOkpaanqKmqsrO0tba3uLm6wsPExcbHyMnK0tPU1dbX2Nna4uPk5ebn6Onq8vP09fb3+Pn6/9oADAMBAAIRAxEAPwB6w8DnqM9KDF/tH8qnAwi/7opvekoqxd2RCEEck0nlAH7xqwBTWHOaOVBdkHlD1NAiHqalpVFLlQ7srGMepppjHqasMKjajlQ7sg8se9NMYx1NTEUh+7S5UO7Kcg285zUWP84qxMOKhrGorPQZ0GPkX6Co2IVue/tU+PlH0qJkDHmupbGY0Ovl7weKccbcgg0141WMkJk+lK2NhVUO0nHpQMjUhgcHocU5GBGf51EgCHPlMGI7HNP8lAVO3p09qQA5GM5HvzUTY25yMCpWiT+7UPkoFK46jHWkMRulN7VIygKAOwxTMYpAVph/OocH0qxcfdJ9Oah5rGruUjoe34VE6vvXY2OefpU1JjmukggbzAFVQPunJJ70r+YI+AGPapyM0hHFAyrIWH3FyTSuXMZIXDZwKJLdXYkk5NSKmFxnNICAtJuwEH4monLiU4GVx0q2RURHNICvK0qw7hHlgegNCEvHllKn371OeRTKAKs4+RvpUGPerM/3G+lQ4rGr0LRv96XFPK80mK6TMbikxT8Uw5pARsKQU5jTAeaQxGqI1KxqI0hjab3paaTSAgn+430qDNTznMbfSq2ayq9Bo6g8j8KbSj7o+lJXUZiVGaeaiY4pDQ0009aUmo880himozTiaYTSAQ9KjPWlY81GWpARz/cb6VUByo4PSrchBU/SqKMdi/SsqvQpHU78Y9CKcWB6Gom+6p/2RTM4NdPQyJjUL04NTHoGRlqYW5oJqMnmpHceTxTC1Ju4phNIAZqhLc05jULGgYyVioY1X3VJMcqarZrGr0KR1hP7tP8AdFRZp2f3SfSoi1dS2MSQGkY0wNzSMaBjGNRE804momNSAFqaWphbmjdxSsUIzVExoc81GW4oAjmbCMfQVWz71JOf3bD2qP8AGsavQpHUhv3KfSomPNFFdK2MgB5psjUUUAQ76jZuaKKRRCWpC3FFFIZGzVEzUUUgK8rcGo/MHrRRWNXcaP/Z\" style=\"cursor:pointer;width:4em\"></a><!--!-->\n",
    "\n",
    "\t\t\t\t\t\t\t\t\t\t\t\t\t\t<p style=\"font-size:8px;white-space:pre-line\">3018-0001.jpg</p></div>"
   ]
  },
  {
   "cell_type": "code",
   "execution_count": null,
   "id": "b6e896d3",
   "metadata": {},
   "outputs": [],
   "source": [
    "len(imageholder)"
   ]
  },
  {
   "cell_type": "code",
   "execution_count": null,
   "id": "1f27d254",
   "metadata": {},
   "outputs": [],
   "source": []
  }
 ],
 "metadata": {
  "kernelspec": {
   "display_name": "Python 3 (ipykernel)",
   "language": "python",
   "name": "python3"
  },
  "language_info": {
   "codemirror_mode": {
    "name": "ipython",
    "version": 3
   },
   "file_extension": ".py",
   "mimetype": "text/x-python",
   "name": "python",
   "nbconvert_exporter": "python",
   "pygments_lexer": "ipython3",
   "version": "3.10.6"
  }
 },
 "nbformat": 4,
 "nbformat_minor": 5
}
