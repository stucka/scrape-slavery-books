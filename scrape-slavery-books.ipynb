{
 "cells": [
  {
   "cell_type": "code",
   "execution_count": 8,
   "metadata": {},
   "outputs": [],
   "source": [
    "from tqdm import tqdm\n",
    "import simplejson as json\n",
    "import requests\n",
    "from pyquery import PyQuery as pq\n",
    "from PIL import Image, ImageOps, ImageEnhance    # Pillow\n",
    "\n",
    "import os\n",
    "import urllib.parse\n",
    "from glob import glob"
   ]
  },
  {
   "cell_type": "code",
   "execution_count": 15,
   "metadata": {},
   "outputs": [],
   "source": [
    "autocontrastcutoff = 5   # Cut off how many percent of histogram?\n",
    "imagesharpness = 1.2   # How much to sharpen?  Was 1.5"
   ]
  },
  {
   "cell_type": "code",
   "execution_count": 16,
   "metadata": {},
   "outputs": [],
   "source": [
    "urlswanted = [\n",
    "    \"https://essss.library.vanderbilt.edu/islandora/object/essss%3A38558#page/1/mode/2up\"\n",
    "]"
   ]
  },
  {
   "cell_type": "code",
   "execution_count": 17,
   "metadata": {},
   "outputs": [],
   "source": [
    "urlpre = \"https://essss.library.vanderbilt.edu/iiif/2/\"\n",
    "urlpost = \"/full/pct:100/0/default.jpg\""
   ]
  },
  {
   "cell_type": "code",
   "execution_count": 18,
   "metadata": {},
   "outputs": [],
   "source": [
    "headers = {\n",
    "    \"Accept\": \"image/avif,image/webp,image/apng,image/*,*/*;q=0.8\",\n",
    "    \"Accept-Encoding\": \"gzip, deflate, br\",\n",
    "    \"Accept-Language\": \"en-US,en;q=0.9\",\n",
    "    \"Connection\": \"keep-alive\",\n",
    "    \"Cookie\": \"has_js=1; _ga=GA1.2.1752803547.1599356991; _gid=GA1.2.880756344.1599356991; _gat=1\",\n",
    "    \"Host\": \"essss.library.vanderbilt.edu\",\n",
    "    \"Referer\": \"https://essss.library.vanderbilt.edu/islandora/object/essss%3A38558\",\n",
    "    \"Sec-Fetch-Dest\": \"image\",\n",
    "    \"Sec-Fetch-Mode\": \"no-cors\",\n",
    "    \"Sec-Fetch-Site\": \"same-origin\"\n",
    "}"
   ]
  },
  {
   "cell_type": "code",
   "execution_count": 19,
   "metadata": {},
   "outputs": [
    {
     "name": "stderr",
     "output_type": "stream",
     "text": [
      "100%|█████████████████████████████████████████████████████████████████████████████| 330/330 [00:00<00:00, 12669.18it/s]"
     ]
    },
    {
     "name": "stdout",
     "output_type": "stream",
     "text": [
      "Processing Livro de batismos de livres, 1774-1787\n"
     ]
    },
    {
     "name": "stderr",
     "output_type": "stream",
     "text": [
      "\n"
     ]
    }
   ],
   "source": [
    "for startpage in urlswanted:\n",
    "    r = requests.get(startpage)\n",
    "    html = r.content\n",
    "    bookname = pq(html)(\"li.active\")[0].text\n",
    "    bookdir = \"books/\" + bookname + \"/\"\n",
    "    rawdir = bookdir + \"raw/\"\n",
    "    processeddir = bookdir + \"processed/\"\n",
    "    for mydir in [rawdir, processeddir]:\n",
    "        os.makedirs(mydir, exist_ok=True)\n",
    "    print(f\"Processing {bookname}\")\n",
    "    rawjson = r.text.split(',\"pageCount\"')[0].split(',\"pages\":')[1]\n",
    "    rawlist = json.loads(rawjson)\n",
    "    for mypage in tqdm(rawlist[:]):\n",
    "        targetpage = mypage['page'].zfill(3)\n",
    "        targetfilename = rawdir + targetpage + \".jpg\"\n",
    "        targeturl = urlpre + urllib.parse.unquote(mypage['identifier']) + urlpost\n",
    "        if not os.path.exists(targetfilename):\n",
    "            r = requests.get(targeturl, headers=headers)\n",
    "            if r.status_code == 200:\n",
    "                with open(targetfilename, \"wb\") as outfile:\n",
    "                    outfile.write(r.content)"
   ]
  },
  {
   "cell_type": "code",
   "execution_count": 22,
   "metadata": {},
   "outputs": [
    {
     "name": "stderr",
     "output_type": "stream",
     "text": [
      "\r",
      "  0%|                                                                                          | 0/330 [00:00<?, ?it/s]"
     ]
    },
    {
     "name": "stdout",
     "output_type": "stream",
     "text": [
      "Processing books\\Livro de batismos de livres, 1774-1787\n"
     ]
    },
    {
     "name": "stderr",
     "output_type": "stream",
     "text": [
      "100%|████████████████████████████████████████████████████████████████████████████████| 330/330 [02:29<00:00,  2.21it/s]\n"
     ]
    }
   ],
   "source": [
    "for bookdir in list(glob(\"books/*\")):\n",
    "    print(f\"Processing {bookdir}\")\n",
    "    rawdir = bookdir + \"/raw/\"\n",
    "    processeddir = bookdir + \"/processed/\"\n",
    "    rawfiles = glob(rawdir + \"*.*\")\n",
    "    for rawfile in tqdm(rawfiles):\n",
    "        rawfile = rawfile.replace(\"\\\\\", \"/\")\n",
    "        targetfile = rawfile.replace(\"/raw/\", \"/processed/\")\n",
    "        if not os.path.exists(targetfile):\n",
    "            im = Image.open(rawfile)\n",
    "            if im.width > im.height:\n",
    "                im = im.rotate(90, expand=True)\n",
    "            im = ImageOps.autocontrast(im, cutoff=autocontrastcutoff)\n",
    "            enhancer = ImageEnhance.Sharpness(im)\n",
    "            im = enhancer.enhance(imagesharpness)\n",
    "            im.save(targetfile)\n"
   ]
  },
  {
   "cell_type": "code",
   "execution_count": null,
   "metadata": {},
   "outputs": [],
   "source": []
  },
  {
   "cell_type": "code",
   "execution_count": null,
   "metadata": {},
   "outputs": [],
   "source": []
  }
 ],
 "metadata": {
  "kernelspec": {
   "display_name": "Python 3",
   "language": "python",
   "name": "python3"
  },
  "language_info": {
   "codemirror_mode": {
    "name": "ipython",
    "version": 3
   },
   "file_extension": ".py",
   "mimetype": "text/x-python",
   "name": "python",
   "nbconvert_exporter": "python",
   "pygments_lexer": "ipython3",
   "version": "3.8.5"
  }
 },
 "nbformat": 4,
 "nbformat_minor": 2
}
